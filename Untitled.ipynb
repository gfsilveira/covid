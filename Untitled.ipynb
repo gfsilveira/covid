{
 "cells": [
  {
   "cell_type": "code",
   "execution_count": 1,
   "metadata": {},
   "outputs": [],
   "source": [
    "import numpy as np\n",
    "import pandas as pd\n",
    "import seaborn as sns\n",
    "import matplotlib.pyplot as plt"
   ]
  },
  {
   "cell_type": "code",
   "execution_count": 2,
   "metadata": {},
   "outputs": [
    {
     "data": {
      "text/html": [
       "<div>\n",
       "<style scoped>\n",
       "    .dataframe tbody tr th:only-of-type {\n",
       "        vertical-align: middle;\n",
       "    }\n",
       "\n",
       "    .dataframe tbody tr th {\n",
       "        vertical-align: top;\n",
       "    }\n",
       "\n",
       "    .dataframe thead th {\n",
       "        text-align: right;\n",
       "    }\n",
       "</style>\n",
       "<table border=\"1\" class=\"dataframe\">\n",
       "  <thead>\n",
       "    <tr style=\"text-align: right;\">\n",
       "      <th></th>\n",
       "      <th>date</th>\n",
       "      <th>state</th>\n",
       "      <th>city</th>\n",
       "      <th>place_type</th>\n",
       "      <th>confirmed</th>\n",
       "      <th>deaths</th>\n",
       "      <th>is_last</th>\n",
       "      <th>estimated_population_2019</th>\n",
       "      <th>city_ibge_code</th>\n",
       "      <th>confirmed_per_100k_inhabitants</th>\n",
       "      <th>death_rate</th>\n",
       "    </tr>\n",
       "  </thead>\n",
       "  <tbody>\n",
       "    <tr>\n",
       "      <th>0</th>\n",
       "      <td>2020-04-03</td>\n",
       "      <td>AC</td>\n",
       "      <td>Acrelândia</td>\n",
       "      <td>city</td>\n",
       "      <td>9</td>\n",
       "      <td>0.0</td>\n",
       "      <td>True</td>\n",
       "      <td>15256.0</td>\n",
       "      <td>1200013.0</td>\n",
       "      <td>58.99318</td>\n",
       "      <td>NaN</td>\n",
       "    </tr>\n",
       "    <tr>\n",
       "      <th>1</th>\n",
       "      <td>2020-04-03</td>\n",
       "      <td>AC</td>\n",
       "      <td>Porto Acre</td>\n",
       "      <td>city</td>\n",
       "      <td>1</td>\n",
       "      <td>0.0</td>\n",
       "      <td>True</td>\n",
       "      <td>18504.0</td>\n",
       "      <td>1200807.0</td>\n",
       "      <td>5.40424</td>\n",
       "      <td>NaN</td>\n",
       "    </tr>\n",
       "    <tr>\n",
       "      <th>2</th>\n",
       "      <td>2020-04-03</td>\n",
       "      <td>AC</td>\n",
       "      <td>Rio Branco</td>\n",
       "      <td>city</td>\n",
       "      <td>36</td>\n",
       "      <td>0.0</td>\n",
       "      <td>True</td>\n",
       "      <td>407319.0</td>\n",
       "      <td>1200401.0</td>\n",
       "      <td>8.83828</td>\n",
       "      <td>NaN</td>\n",
       "    </tr>\n",
       "    <tr>\n",
       "      <th>3</th>\n",
       "      <td>2020-04-03</td>\n",
       "      <td>AC</td>\n",
       "      <td>NaN</td>\n",
       "      <td>state</td>\n",
       "      <td>46</td>\n",
       "      <td>0.0</td>\n",
       "      <td>True</td>\n",
       "      <td>881935.0</td>\n",
       "      <td>12.0</td>\n",
       "      <td>5.21580</td>\n",
       "      <td>NaN</td>\n",
       "    </tr>\n",
       "    <tr>\n",
       "      <th>4</th>\n",
       "      <td>2020-04-03</td>\n",
       "      <td>AL</td>\n",
       "      <td>Importados/Indefinidos</td>\n",
       "      <td>city</td>\n",
       "      <td>4</td>\n",
       "      <td>0.0</td>\n",
       "      <td>True</td>\n",
       "      <td>NaN</td>\n",
       "      <td>NaN</td>\n",
       "      <td>NaN</td>\n",
       "      <td>NaN</td>\n",
       "    </tr>\n",
       "  </tbody>\n",
       "</table>\n",
       "</div>"
      ],
      "text/plain": [
       "         date state                    city place_type  confirmed  deaths  \\\n",
       "0  2020-04-03    AC              Acrelândia       city          9     0.0   \n",
       "1  2020-04-03    AC              Porto Acre       city          1     0.0   \n",
       "2  2020-04-03    AC              Rio Branco       city         36     0.0   \n",
       "3  2020-04-03    AC                     NaN      state         46     0.0   \n",
       "4  2020-04-03    AL  Importados/Indefinidos       city          4     0.0   \n",
       "\n",
       "   is_last  estimated_population_2019  city_ibge_code  \\\n",
       "0     True                    15256.0       1200013.0   \n",
       "1     True                    18504.0       1200807.0   \n",
       "2     True                   407319.0       1200401.0   \n",
       "3     True                   881935.0            12.0   \n",
       "4     True                        NaN             NaN   \n",
       "\n",
       "   confirmed_per_100k_inhabitants  death_rate  \n",
       "0                        58.99318         NaN  \n",
       "1                         5.40424         NaN  \n",
       "2                         8.83828         NaN  \n",
       "3                         5.21580         NaN  \n",
       "4                             NaN         NaN  "
      ]
     },
     "execution_count": 2,
     "metadata": {},
     "output_type": "execute_result"
    }
   ],
   "source": [
    "corona_municipio =  pd.read_csv('data//covid19_municipios.csv')\n",
    "corona_municipio.head()"
   ]
  },
  {
   "cell_type": "code",
   "execution_count": 3,
   "metadata": {},
   "outputs": [
    {
     "data": {
      "text/plain": [
       "RS    667\n",
       "SP    607\n",
       "SC    529\n",
       "MG    446\n",
       "PR    443\n",
       "BA    371\n",
       "RJ    305\n",
       "GO    223\n",
       "ES    199\n",
       "PE    175\n",
       "CE    159\n",
       "RN    134\n",
       "MS    106\n",
       "PA    105\n",
       "AM    104\n",
       "PB     78\n",
       "AL     65\n",
       "MT     54\n",
       "DF     54\n",
       "AC     48\n",
       "SE     47\n",
       "RO     46\n",
       "PI     42\n",
       "RR     41\n",
       "TO     39\n",
       "MA     38\n",
       "AP     30\n",
       "Name: state, dtype: int64"
      ]
     },
     "execution_count": 3,
     "metadata": {},
     "output_type": "execute_result"
    }
   ],
   "source": [
    "corona_municipio['state'].value_counts()"
   ]
  },
  {
   "cell_type": "code",
   "execution_count": 8,
   "metadata": {},
   "outputs": [
    {
     "data": {
      "text/plain": [
       "state\n",
       "AC     17.666667\n",
       "AL      6.430769\n",
       "AM     30.894231\n",
       "AP      5.600000\n",
       "BA     11.773585\n",
       "CE     48.786164\n",
       "DF    139.370370\n",
       "ES     10.512563\n",
       "GO      6.757848\n",
       "MA     21.368421\n",
       "MG     13.452915\n",
       "MS      9.886792\n",
       "MT      7.481481\n",
       "PA      6.076190\n",
       "PB      4.512821\n",
       "PE     11.845714\n",
       "PI      7.595238\n",
       "PR      9.417607\n",
       "RJ     50.800000\n",
       "RN     10.567164\n",
       "RO      3.782609\n",
       "RR      9.804878\n",
       "RS      9.343328\n",
       "SC      9.536862\n",
       "SE      7.872340\n",
       "SP     71.466227\n",
       "TO      6.435897\n",
       "Name: confirmed, dtype: float64"
      ]
     },
     "execution_count": 8,
     "metadata": {},
     "output_type": "execute_result"
    }
   ],
   "source": [
    "g = corona_municipio.groupby('state')\n",
    "g['confirmed'].mean()"
   ]
  },
  {
   "cell_type": "code",
   "execution_count": 14,
   "metadata": {},
   "outputs": [
    {
     "data": {
      "text/plain": [
       "7526"
      ]
     },
     "execution_count": 14,
     "metadata": {},
     "output_type": "execute_result"
    }
   ],
   "source": [
    "corona_municipio[corona_municipio['state'] == 'DF']['confirmed'].sum()"
   ]
  },
  {
   "cell_type": "code",
   "execution_count": 17,
   "metadata": {},
   "outputs": [
    {
     "data": {
      "text/plain": [
       "0.0    419\n",
       "2.0     11\n",
       "1.0      8\n",
       "3.0      3\n",
       "4.0      1\n",
       "5.0      1\n",
       "Name: deaths, dtype: int64"
      ]
     },
     "execution_count": 17,
     "metadata": {},
     "output_type": "execute_result"
    }
   ],
   "source": [
    "corona_municipio[corona_municipio['state'] == 'PR']['deaths'].value_counts()"
   ]
  },
  {
   "cell_type": "code",
   "execution_count": 9,
   "metadata": {},
   "outputs": [
    {
     "data": {
      "text/plain": [
       "<matplotlib.axes._subplots.AxesSubplot at 0x7f096f62e780>"
      ]
     },
     "execution_count": 9,
     "metadata": {},
     "output_type": "execute_result"
    },
    {
     "data": {
      "image/png": "[encoded data removed]",
      "text/plain": [
       "<Figure size 1080x720 with 1 Axes>"
      ]
     },
     "metadata": {
      "needs_background": "light"
     },
     "output_type": "display_data"
    }
   ],
   "source": [
    "plt.figure(figsize=(15,10))\n",
    "g = corona_municipio.groupby('state')\n",
    "g['confirmed'].mean().sort_values(ascending=True).plot(\n",
    "kind='barh'\n",
    ")"
   ]
  },
  {
   "cell_type": "code",
   "execution_count": null,
   "metadata": {},
   "outputs": [],
   "source": []
  }
 ],
 "metadata": {
  "kernelspec": {
   "display_name": "Python 3",
   "language": "python",
   "name": "python3"
  },
  "language_info": {
   "codemirror_mode": {
    "name": "ipython",
    "version": 3
   },
   "file_extension": ".py",
   "mimetype": "text/x-python",
   "name": "python",
   "nbconvert_exporter": "python",
   "pygments_lexer": "ipython3",
   "version": "3.7.1"
  }
 },
 "nbformat": 4,
 "nbformat_minor": 2
}
