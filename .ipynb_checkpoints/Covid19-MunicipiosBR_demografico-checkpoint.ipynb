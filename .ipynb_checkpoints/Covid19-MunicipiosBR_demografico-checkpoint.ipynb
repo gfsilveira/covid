{
 "cells": [
  {
   "cell_type": "code",
   "execution_count": 1,
   "metadata": {},
   "outputs": [
    {
     "data": {
      "text/plain": [
       "'2020-4-13'"
      ]
     },
     "execution_count": 1,
     "metadata": {},
     "output_type": "execute_result"
    }
   ],
   "source": [
    "import os\n",
    "import numpy as np\n",
    "import pandas as pd\n",
    "import seaborn as sns\n",
    "from scipy import stats\n",
    "from meus.printer import *\n",
    "from datetime import datetime\n",
    "import matplotlib.pyplot as plt\n",
    "\n",
    "data = str(datetime.now().year)+'-'+str(datetime.now().month)+'-'+str(datetime.now().day)\n",
    "data"
   ]
  },
  {
   "cell_type": "code",
   "execution_count": 22,
   "metadata": {},
   "outputs": [
    {
     "name": "stdout",
     "output_type": "stream",
     "text": [
      "-------------\n",
      "-=< Lista >=-\n",
      "-------------\n",
      "0 -> artigo\n",
      "1 -> caso-full.csv\n",
      "2 -> cities.csv\n",
      "3 -> covid19_municipios.csv\n",
      "4 -> COVID19_REGIOES BR.csv\n",
      "5 -> Dados_demográficos_municípios.xlsx\n",
      "6 -> Dados_demográficos_municípios_new.xlsx\n",
      "7 -> Datalab_COVID.pptx\n",
      "8 -> figures\n",
      "9 -> População residente municipal x população faixa etária.csv\n",
      "10 -> População residente por estado - 2015.csv\n",
      "11 -> População residente x sexo.csv\n",
      "12 -> results\n"
     ]
    }
   ],
   "source": [
    "os.chdir('D:\\\\OneDrive\\\\Programação\\\\python\\\\covid\\\\data\\\\results')\n",
    "directory = os.listdir('..')\n",
    "printLis(directory)"
   ]
  },
  {
   "cell_type": "code",
   "execution_count": 94,
   "metadata": {
    "scrolled": false
   },
   "outputs": [
    {
     "data": {
      "text/html": [
       "<div>\n",
       "<style scoped>\n",
       "    .dataframe tbody tr th:only-of-type {\n",
       "        vertical-align: middle;\n",
       "    }\n",
       "\n",
       "    .dataframe tbody tr th {\n",
       "        vertical-align: top;\n",
       "    }\n",
       "\n",
       "    .dataframe thead th {\n",
       "        text-align: right;\n",
       "    }\n",
       "</style>\n",
       "<table border=\"1\" class=\"dataframe\">\n",
       "  <thead>\n",
       "    <tr style=\"text-align: right;\">\n",
       "      <th></th>\n",
       "      <th>city</th>\n",
       "      <th>city_ibge_code</th>\n",
       "      <th>date</th>\n",
       "      <th>estimated_population_2019</th>\n",
       "      <th>is_repeated</th>\n",
       "      <th>is_last</th>\n",
       "      <th>last_available_confirmed</th>\n",
       "      <th>last_available_confirmed_per_100k_inhabitants</th>\n",
       "      <th>last_available_date</th>\n",
       "      <th>last_available_death_rate</th>\n",
       "      <th>last_available_deaths</th>\n",
       "      <th>place_type</th>\n",
       "      <th>state</th>\n",
       "      <th>new_confirmed</th>\n",
       "      <th>new_deaths</th>\n",
       "    </tr>\n",
       "  </thead>\n",
       "  <tbody>\n",
       "    <tr>\n",
       "      <td>0</td>\n",
       "      <td>São Paulo</td>\n",
       "      <td>3550308.0</td>\n",
       "      <td>2020-02-25</td>\n",
       "      <td>12252023.0</td>\n",
       "      <td>False</td>\n",
       "      <td>False</td>\n",
       "      <td>1</td>\n",
       "      <td>0.00816</td>\n",
       "      <td>2020-02-25</td>\n",
       "      <td>NaN</td>\n",
       "      <td>NaN</td>\n",
       "      <td>city</td>\n",
       "      <td>SP</td>\n",
       "      <td>0</td>\n",
       "      <td>0</td>\n",
       "    </tr>\n",
       "    <tr>\n",
       "      <td>1</td>\n",
       "      <td>São Paulo</td>\n",
       "      <td>3550308.0</td>\n",
       "      <td>2020-02-26</td>\n",
       "      <td>12252023.0</td>\n",
       "      <td>True</td>\n",
       "      <td>False</td>\n",
       "      <td>1</td>\n",
       "      <td>0.00816</td>\n",
       "      <td>2020-02-25</td>\n",
       "      <td>NaN</td>\n",
       "      <td>NaN</td>\n",
       "      <td>city</td>\n",
       "      <td>SP</td>\n",
       "      <td>0</td>\n",
       "      <td>0</td>\n",
       "    </tr>\n",
       "    <tr>\n",
       "      <td>2</td>\n",
       "      <td>São Paulo</td>\n",
       "      <td>3550308.0</td>\n",
       "      <td>2020-02-27</td>\n",
       "      <td>12252023.0</td>\n",
       "      <td>False</td>\n",
       "      <td>False</td>\n",
       "      <td>1</td>\n",
       "      <td>0.00816</td>\n",
       "      <td>2020-02-27</td>\n",
       "      <td>NaN</td>\n",
       "      <td>NaN</td>\n",
       "      <td>city</td>\n",
       "      <td>SP</td>\n",
       "      <td>0</td>\n",
       "      <td>0</td>\n",
       "    </tr>\n",
       "    <tr>\n",
       "      <td>3</td>\n",
       "      <td>São Paulo</td>\n",
       "      <td>3550308.0</td>\n",
       "      <td>2020-02-28</td>\n",
       "      <td>12252023.0</td>\n",
       "      <td>False</td>\n",
       "      <td>False</td>\n",
       "      <td>2</td>\n",
       "      <td>0.01632</td>\n",
       "      <td>2020-02-28</td>\n",
       "      <td>NaN</td>\n",
       "      <td>NaN</td>\n",
       "      <td>city</td>\n",
       "      <td>SP</td>\n",
       "      <td>1</td>\n",
       "      <td>0</td>\n",
       "    </tr>\n",
       "    <tr>\n",
       "      <td>4</td>\n",
       "      <td>São Paulo</td>\n",
       "      <td>3550308.0</td>\n",
       "      <td>2020-02-29</td>\n",
       "      <td>12252023.0</td>\n",
       "      <td>False</td>\n",
       "      <td>False</td>\n",
       "      <td>2</td>\n",
       "      <td>0.01632</td>\n",
       "      <td>2020-02-29</td>\n",
       "      <td>NaN</td>\n",
       "      <td>NaN</td>\n",
       "      <td>city</td>\n",
       "      <td>SP</td>\n",
       "      <td>0</td>\n",
       "      <td>0</td>\n",
       "    </tr>\n",
       "  </tbody>\n",
       "</table>\n",
       "</div>"
      ],
      "text/plain": [
       "        city  city_ibge_code        date  estimated_population_2019  \\\n",
       "0  São Paulo       3550308.0  2020-02-25                 12252023.0   \n",
       "1  São Paulo       3550308.0  2020-02-26                 12252023.0   \n",
       "2  São Paulo       3550308.0  2020-02-27                 12252023.0   \n",
       "3  São Paulo       3550308.0  2020-02-28                 12252023.0   \n",
       "4  São Paulo       3550308.0  2020-02-29                 12252023.0   \n",
       "\n",
       "   is_repeated  is_last  last_available_confirmed  \\\n",
       "0        False    False                         1   \n",
       "1         True    False                         1   \n",
       "2        False    False                         1   \n",
       "3        False    False                         2   \n",
       "4        False    False                         2   \n",
       "\n",
       "   last_available_confirmed_per_100k_inhabitants last_available_date  \\\n",
       "0                                        0.00816          2020-02-25   \n",
       "1                                        0.00816          2020-02-25   \n",
       "2                                        0.00816          2020-02-27   \n",
       "3                                        0.01632          2020-02-28   \n",
       "4                                        0.01632          2020-02-29   \n",
       "\n",
       "   last_available_death_rate  last_available_deaths place_type state  \\\n",
       "0                        NaN                    NaN       city    SP   \n",
       "1                        NaN                    NaN       city    SP   \n",
       "2                        NaN                    NaN       city    SP   \n",
       "3                        NaN                    NaN       city    SP   \n",
       "4                        NaN                    NaN       city    SP   \n",
       "\n",
       "   new_confirmed  new_deaths  \n",
       "0              0           0  \n",
       "1              0           0  \n",
       "2              0           0  \n",
       "3              1           0  \n",
       "4              0           0  "
      ]
     },
     "execution_count": 94,
     "metadata": {},
     "output_type": "execute_result"
    }
   ],
   "source": [
    "date = 1\n",
    "df_cov =  pd.read_csv('..\\\\'+directory[date])\n",
    "df_cov.head()"
   ]
  },
  {
   "cell_type": "code",
   "execution_count": 95,
   "metadata": {},
   "outputs": [
    {
     "data": {
      "text/html": [
       "<div>\n",
       "<style scoped>\n",
       "    .dataframe tbody tr th:only-of-type {\n",
       "        vertical-align: middle;\n",
       "    }\n",
       "\n",
       "    .dataframe tbody tr th {\n",
       "        vertical-align: top;\n",
       "    }\n",
       "\n",
       "    .dataframe thead th {\n",
       "        text-align: right;\n",
       "    }\n",
       "</style>\n",
       "<table border=\"1\" class=\"dataframe\">\n",
       "  <thead>\n",
       "    <tr style=\"text-align: right;\">\n",
       "      <th></th>\n",
       "      <th>Municípios</th>\n",
       "      <th>Population_COVID</th>\n",
       "      <th>Confirmed</th>\n",
       "      <th>Deaths</th>\n",
       "      <th>Confirmed/100k</th>\n",
       "      <th>Death Rate</th>\n",
       "    </tr>\n",
       "  </thead>\n",
       "  <tbody>\n",
       "    <tr>\n",
       "      <td>9367</td>\n",
       "      <td>Acrelândia</td>\n",
       "      <td>15256.0</td>\n",
       "      <td>9</td>\n",
       "      <td>0.0</td>\n",
       "      <td>58.99318</td>\n",
       "      <td>NaN</td>\n",
       "    </tr>\n",
       "    <tr>\n",
       "      <td>9368</td>\n",
       "      <td>Bujari</td>\n",
       "      <td>10266.0</td>\n",
       "      <td>1</td>\n",
       "      <td>0.0</td>\n",
       "      <td>9.74089</td>\n",
       "      <td>NaN</td>\n",
       "    </tr>\n",
       "    <tr>\n",
       "      <td>9369</td>\n",
       "      <td>Plácido de Castro</td>\n",
       "      <td>19761.0</td>\n",
       "      <td>3</td>\n",
       "      <td>0.0</td>\n",
       "      <td>15.18142</td>\n",
       "      <td>NaN</td>\n",
       "    </tr>\n",
       "    <tr>\n",
       "      <td>9370</td>\n",
       "      <td>Porto Acre</td>\n",
       "      <td>18504.0</td>\n",
       "      <td>1</td>\n",
       "      <td>0.0</td>\n",
       "      <td>5.40424</td>\n",
       "      <td>NaN</td>\n",
       "    </tr>\n",
       "    <tr>\n",
       "      <td>9371</td>\n",
       "      <td>Rio Branco</td>\n",
       "      <td>407319.0</td>\n",
       "      <td>48</td>\n",
       "      <td>2.0</td>\n",
       "      <td>11.78438</td>\n",
       "      <td>0.0417</td>\n",
       "    </tr>\n",
       "  </tbody>\n",
       "</table>\n",
       "</div>"
      ],
      "text/plain": [
       "             Municípios  Population_COVID  Confirmed  Deaths  Confirmed/100k  \\\n",
       "9367         Acrelândia           15256.0          9     0.0        58.99318   \n",
       "9368             Bujari           10266.0          1     0.0         9.74089   \n",
       "9369  Plácido de Castro           19761.0          3     0.0        15.18142   \n",
       "9370         Porto Acre           18504.0          1     0.0         5.40424   \n",
       "9371         Rio Branco          407319.0         48     2.0        11.78438   \n",
       "\n",
       "      Death Rate  \n",
       "9367         NaN  \n",
       "9368         NaN  \n",
       "9369         NaN  \n",
       "9370         NaN  \n",
       "9371      0.0417  "
      ]
     },
     "execution_count": 95,
     "metadata": {},
     "output_type": "execute_result"
    }
   ],
   "source": [
    "df_cov = df_cov[(df_cov['date'] == '2020-04-10') & (df_cov['place_type'] == 'city')][[\n",
    "    \"city\",\n",
    "    \"estimated_population_2019\",\n",
    "    \"last_available_confirmed\",\n",
    "    \"last_available_deaths\",\n",
    "    \"last_available_confirmed_per_100k_inhabitants\",\n",
    "    \"last_available_death_rate\",\n",
    "]]\n",
    "df_cov = df_cov.rename(columns={\n",
    "    \"city\": \"Municípios\",\n",
    "    \"estimated_population_2019\": \"Population_COVID\",\n",
    "    \"last_available_confirmed\": \"Confirmed\",\n",
    "    \"last_available_deaths\": \"Deaths\",\n",
    "    \"last_available_confirmed_per_100k_inhabitants\": \"Confirmed/100k\",\n",
    "    \"last_available_death_rate\": \"Death Rate\",\n",
    "})\n",
    "df_cov.head()"
   ]
  },
  {
   "cell_type": "code",
   "execution_count": 96,
   "metadata": {},
   "outputs": [],
   "source": [
    "# df_cities = pd.DataFrame()\n",
    "# group = df_cov.groupby('city')\n",
    "# df_cities['Municípios'] = g_population.sum().index\n",
    "# df_cities['Confirmed'] = group['last_available_confirmed'].sum()\n",
    "# df_cities['Deaths'] = group.sum()['last_available_deaths']\n",
    "# df_cities['Confirmed/100k'] = group.sum()['last_available_confirmed_per_100k_inhabitants']\n",
    "# df_cities.head()"
   ]
  },
  {
   "cell_type": "code",
   "execution_count": 97,
   "metadata": {},
   "outputs": [
    {
     "name": "stdout",
     "output_type": "stream",
     "text": [
      "<class 'pandas.core.frame.DataFrame'>\n",
      "Int64Index: 884 entries, 9367 to 10250\n",
      "Data columns (total 6 columns):\n",
      "Municípios          884 non-null object\n",
      "Population_COVID    869 non-null float64\n",
      "Confirmed           884 non-null int64\n",
      "Deaths              882 non-null float64\n",
      "Confirmed/100k      856 non-null float64\n",
      "Death Rate          198 non-null float64\n",
      "dtypes: float64(4), int64(1), object(1)\n",
      "memory usage: 44.9+ KB\n"
     ]
    }
   ],
   "source": [
    "df_cov.info()"
   ]
  },
  {
   "cell_type": "code",
   "execution_count": 98,
   "metadata": {},
   "outputs": [
    {
     "data": {
      "text/html": [
       "<div>\n",
       "<style scoped>\n",
       "    .dataframe tbody tr th:only-of-type {\n",
       "        vertical-align: middle;\n",
       "    }\n",
       "\n",
       "    .dataframe tbody tr th {\n",
       "        vertical-align: top;\n",
       "    }\n",
       "\n",
       "    .dataframe thead th {\n",
       "        text-align: right;\n",
       "    }\n",
       "</style>\n",
       "<table border=\"1\" class=\"dataframe\">\n",
       "  <thead>\n",
       "    <tr style=\"text-align: right;\">\n",
       "      <th></th>\n",
       "      <th>Municípios</th>\n",
       "      <th>UF</th>\n",
       "      <th>Área Territorial - km² [2018]</th>\n",
       "      <th>População estimada - pessoas [2019]</th>\n",
       "      <th>Densidade demográfica - hab/km² [2010]</th>\n",
       "      <th>IDHM - Índice de desenvolvimento humano municipal [2010]</th>\n",
       "    </tr>\n",
       "  </thead>\n",
       "  <tbody>\n",
       "    <tr>\n",
       "      <td>0</td>\n",
       "      <td>Abaetetuba</td>\n",
       "      <td>PA</td>\n",
       "      <td>1610.65</td>\n",
       "      <td>157698</td>\n",
       "      <td>87.61</td>\n",
       "      <td>0.628</td>\n",
       "    </tr>\n",
       "    <tr>\n",
       "      <td>1</td>\n",
       "      <td>Acrelândia</td>\n",
       "      <td>AC</td>\n",
       "      <td>1807.95</td>\n",
       "      <td>15256</td>\n",
       "      <td>6.94</td>\n",
       "      <td>0.604</td>\n",
       "    </tr>\n",
       "    <tr>\n",
       "      <td>2</td>\n",
       "      <td>Adamantina</td>\n",
       "      <td>SP</td>\n",
       "      <td>411.987</td>\n",
       "      <td>35068</td>\n",
       "      <td>82.15</td>\n",
       "      <td>0.79</td>\n",
       "    </tr>\n",
       "    <tr>\n",
       "      <td>3</td>\n",
       "      <td>Afonso Cláudio</td>\n",
       "      <td>ES</td>\n",
       "      <td>941.188</td>\n",
       "      <td>30586</td>\n",
       "      <td>32.68</td>\n",
       "      <td>0.667</td>\n",
       "    </tr>\n",
       "    <tr>\n",
       "      <td>4</td>\n",
       "      <td>Agudos</td>\n",
       "      <td>SP</td>\n",
       "      <td>966.708</td>\n",
       "      <td>37214</td>\n",
       "      <td>35.73</td>\n",
       "      <td>0.745</td>\n",
       "    </tr>\n",
       "  </tbody>\n",
       "</table>\n",
       "</div>"
      ],
      "text/plain": [
       "       Municípios  UF Área Territorial - km² [2018]  \\\n",
       "0      Abaetetuba  PA                       1610.65   \n",
       "1      Acrelândia  AC                       1807.95   \n",
       "2      Adamantina  SP                       411.987   \n",
       "3  Afonso Cláudio  ES                      941.188    \n",
       "4          Agudos  SP                      966.708    \n",
       "\n",
       "  População estimada - pessoas [2019] Densidade demográfica - hab/km² [2010]  \\\n",
       "0                             157698                                  87.61    \n",
       "1                              15256                                   6.94    \n",
       "2                              35068                                   82.15   \n",
       "3                              30586                                  32.68    \n",
       "4                             37214                                   35.73    \n",
       "\n",
       "  IDHM - Índice de desenvolvimento humano municipal [2010]  \n",
       "0                                              0.628         \n",
       "1                                              0.604         \n",
       "2                                               0.79         \n",
       "3                                              0.667         \n",
       "4                                              0.745         "
      ]
     },
     "execution_count": 98,
     "metadata": {},
     "output_type": "execute_result"
    }
   ],
   "source": [
    "date = 6\n",
    "df_mun =  pd.read_excel('..\\\\'+directory[date], skiprows=1, sep='\\t')\n",
    "df_mun.head()"
   ]
  },
  {
   "cell_type": "code",
   "execution_count": 99,
   "metadata": {},
   "outputs": [
    {
     "name": "stdout",
     "output_type": "stream",
     "text": [
      "<class 'pandas.core.frame.DataFrame'>\n",
      "RangeIndex: 540 entries, 0 to 539\n",
      "Data columns (total 6 columns):\n",
      "Municípios                                                   540 non-null object\n",
      "UF                                                           540 non-null object\n",
      "Área Territorial - km² [2018]                                540 non-null object\n",
      "População estimada - pessoas [2019]                          540 non-null object\n",
      "Densidade demográfica - hab/km² [2010]                       540 non-null object\n",
      "IDHM - Índice de desenvolvimento humano municipal [2010]    540 non-null object\n",
      "dtypes: object(6)\n",
      "memory usage: 12.7+ KB\n"
     ]
    }
   ],
   "source": [
    "df_mun.info()"
   ]
  },
  {
   "cell_type": "code",
   "execution_count": 100,
   "metadata": {},
   "outputs": [
    {
     "name": "stdout",
     "output_type": "stream",
     "text": [
      "<class 'pandas.core.frame.DataFrame'>\n",
      "RangeIndex: 540 entries, 0 to 539\n",
      "Data columns (total 6 columns):\n",
      "Municípios         540 non-null object\n",
      "UF                 540 non-null object\n",
      "Area               540 non-null float64\n",
      "Population_Dens    540 non-null int64\n",
      "Density            540 non-null float64\n",
      "MHDI               540 non-null float64\n",
      "dtypes: float64(3), int64(1), object(2)\n",
      "memory usage: 21.2+ KB\n"
     ]
    }
   ],
   "source": [
    "df_mun = df_mun.rename(columns={\n",
    "    \"População estimada - pessoas [2019]\": \"Population_Dens\",\n",
    "    \"Área Territorial - km² [2018]\": \"Area\",\n",
    "    \"Densidade demográfica - hab/km² [2010]\": \"Density\",\n",
    "    \"IDHM - Índice de desenvolvimento humano municipal [2010]\": \"MHDI\"\n",
    "})\n",
    "df_mun['Population_Dens'] = df_mun['Population_Dens'].astype('int64')\n",
    "df_mun['Area'] = df_mun['Area'].astype('float64')\n",
    "df_mun['Density'] = df_mun['Density'].astype('float64')\n",
    "df_mun['MHDI'] = df_mun['MHDI'].astype('float64')\n",
    "df_mun.info()"
   ]
  },
  {
   "cell_type": "code",
   "execution_count": 101,
   "metadata": {},
   "outputs": [
    {
     "name": "stdout",
     "output_type": "stream",
     "text": [
      "<class 'pandas.core.frame.DataFrame'>\n",
      "Int64Index: 512 entries, 0 to 511\n",
      "Data columns (total 11 columns):\n",
      "Municípios          512 non-null object\n",
      "Population_COVID    512 non-null int64\n",
      "Confirmed           512 non-null int64\n",
      "Deaths              512 non-null float64\n",
      "Confirmed/100k      506 non-null float64\n",
      "Death Rate          138 non-null float64\n",
      "UF                  512 non-null object\n",
      "Area                512 non-null float64\n",
      "Population_Dens     512 non-null int64\n",
      "Density             512 non-null float64\n",
      "MHDI                512 non-null float64\n",
      "dtypes: float64(6), int64(3), object(2)\n",
      "memory usage: 44.0+ KB\n"
     ]
    }
   ],
   "source": [
    "df = pd.merge(df_cov, df_mun, on=\"Municípios\")\n",
    "df['Population_COVID'] = df['Population_COVID'].astype('int64')\n",
    "df.info()"
   ]
  },
  {
   "cell_type": "code",
   "execution_count": 110,
   "metadata": {},
   "outputs": [
    {
     "name": "stdout",
     "output_type": "stream",
     "text": [
      "Directory already exists\n"
     ]
    }
   ],
   "source": [
    "g = 1\n",
    "print_campo = 'n'\n",
    "col1 = 'Confirmed'\n",
    "col2 = 'MHDI'\n",
    "try:\n",
    "    os.mkdir(col2)\n",
    "    print('Directory created')\n",
    "except FileExistsError:\n",
    "    print('Directory already exists')    "
   ]
  },
  {
   "cell_type": "code",
   "execution_count": 111,
   "metadata": {},
   "outputs": [
    {
     "data": {
      "image/png": "[encoded data removed]",
      "text/plain": [
       "<Figure size 1080x720 with 2 Axes>"
      ]
     },
     "metadata": {
      "needs_background": "light"
     },
     "output_type": "display_data"
    }
   ],
   "source": [
    "g += 1\n",
    "corr = df.corr(method='spearman')\n",
    "mask = np.triu(np.ones_like(corr, dtype=np.bool))\n",
    "plt.figure(figsize=(15, 10))\n",
    "sns.heatmap(\n",
    "    corr,\n",
    "    annot=True,\n",
    "    vmin=-1,\n",
    "    vmax=1,\n",
    "    cmap='coolwarm',\n",
    "    center=0,\n",
    "    square=True,\n",
    "    linewidths=.5,\n",
    "    cbar_kws={\"shrink\": .5},\n",
    "    mask=mask\n",
    ")\n",
    "plt.title('Spearman correlation for all data')\n",
    "if print_campo == 's':\n",
    "    plt.savefig(col2+'\\\\0'+str(g)+'-'+col2+'_'+data+'.png', dpi=150)"
   ]
  },
  {
   "cell_type": "code",
   "execution_count": 114,
   "metadata": {},
   "outputs": [
    {
     "data": {
      "image/png": "[encoded data removed]",
      "text/plain": [
       "<Figure size 720x720 with 1 Axes>"
      ]
     },
     "metadata": {
      "needs_background": "light"
     },
     "output_type": "display_data"
    }
   ],
   "source": [
    "g += 1\n",
    "df_mold = df\n",
    "pear_pos = stats.spearmanr(df_mold[col1], df_mold[col2])\n",
    "plt.figure(figsize=(10, 10))\n",
    "sns.regplot(\n",
    "    x=col1,\n",
    "    y=col2,\n",
    "    data=df_mold\n",
    ")\n",
    "plt.title('Spearman correlation for all data')\n",
    "plt.legend([\n",
    "    'p = ' + str(round(pear_pos[1], 4)) + '\\nR = ' + str(round(pear_pos[0], 4))\n",
    "])\n",
    "if print_campo == 's':\n",
    "    plt.savefig(col2+'\\\\0'+str(g)+'-'+col2+'_'+data+'.png', dpi=150)"
   ]
  },
  {
   "cell_type": "code",
   "execution_count": null,
   "metadata": {},
   "outputs": [],
   "source": []
  }
 ],
 "metadata": {
  "kernelspec": {
   "display_name": "Python 3",
   "language": "python",
   "name": "python3"
  },
  "language_info": {
   "codemirror_mode": {
    "name": "ipython",
    "version": 3
   },
   "file_extension": ".py",
   "mimetype": "text/x-python",
   "name": "python",
   "nbconvert_exporter": "python",
   "pygments_lexer": "ipython3",
   "version": "3.7.4"
  },
  "toc": {
   "base_numbering": 1,
   "nav_menu": {},
   "number_sections": true,
   "sideBar": true,
   "skip_h1_title": false,
   "title_cell": "Table of Contents",
   "title_sidebar": "Contents",
   "toc_cell": false,
   "toc_position": {},
   "toc_section_display": true,
   "toc_window_display": false
  },
  "varInspector": {
   "cols": {
    "lenName": 16,
    "lenType": 16,
    "lenVar": 40
   },
   "kernels_config": {
    "python": {
     "delete_cmd_postfix": "",
     "delete_cmd_prefix": "del ",
     "library": "var_list.py",
     "varRefreshCmd": "print(var_dic_list())"
    },
    "r": {
     "delete_cmd_postfix": ") ",
     "delete_cmd_prefix": "rm(",
     "library": "var_list.r",
     "varRefreshCmd": "cat(var_dic_list()) "
    }
   },
   "types_to_exclude": [
    "module",
    "function",
    "builtin_function_or_method",
    "instance",
    "_Feature"
   ],
   "window_display": false
  }
 },
 "nbformat": 4,
 "nbformat_minor": 2
}
