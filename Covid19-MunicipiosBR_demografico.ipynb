{
 "cells": [
  {
   "cell_type": "code",
   "execution_count": 1,
   "metadata": {},
   "outputs": [
    {
     "data": {
      "text/plain": [
       "'2020-4-11'"
      ]
     },
     "execution_count": 1,
     "metadata": {},
     "output_type": "execute_result"
    }
   ],
   "source": [
    "import os\n",
    "import numpy as np\n",
    "import pandas as pd\n",
    "import seaborn as sns\n",
    "from scipy import stats\n",
    "from meus.printer import *\n",
    "from datetime import datetime\n",
    "import matplotlib.pyplot as plt\n",
    "\n",
    "data = str(datetime.now().year)+'-'+str(datetime.now().month)+'-'+str(datetime.now().day)\n",
    "data"
   ]
  },
  {
   "cell_type": "code",
   "execution_count": 15,
   "metadata": {},
   "outputs": [
    {
     "name": "stdout",
     "output_type": "stream",
     "text": [
      "-------------\n",
      "-=< Lista >=-\n",
      "-------------\n",
      "0 -> artigo\n",
      "1 -> caso-full.csv\n",
      "2 -> cities.csv\n",
      "3 -> covid19_municipios.csv\n",
      "4 -> COVID19_REGIOES BR.csv\n",
      "5 -> Dados_demográficos_municípios.csv\n",
      "6 -> Dados_demográficos_municípios.xlsx\n",
      "7 -> Datalab_COVID.pptx\n",
      "8 -> figures\n",
      "9 -> População residente municipal x população faixa etária.csv\n",
      "10 -> População residente por estado - 2015.csv\n",
      "11 -> População residente x sexo.csv\n",
      "12 -> results\n"
     ]
    }
   ],
   "source": [
    "os.chdir('D:\\\\OneDrive\\\\Programação\\\\python\\\\covid\\\\data\\\\results')\n",
    "directory = os.listdir('..')\n",
    "printLis(directory)"
   ]
  },
  {
   "cell_type": "code",
   "execution_count": 16,
   "metadata": {},
   "outputs": [
    {
     "data": {
      "text/html": [
       "<div>\n",
       "<style scoped>\n",
       "    .dataframe tbody tr th:only-of-type {\n",
       "        vertical-align: middle;\n",
       "    }\n",
       "\n",
       "    .dataframe tbody tr th {\n",
       "        vertical-align: top;\n",
       "    }\n",
       "\n",
       "    .dataframe thead th {\n",
       "        text-align: right;\n",
       "    }\n",
       "</style>\n",
       "<table border=\"1\" class=\"dataframe\">\n",
       "  <thead>\n",
       "    <tr style=\"text-align: right;\">\n",
       "      <th></th>\n",
       "      <th>city</th>\n",
       "      <th>city_ibge_code</th>\n",
       "      <th>date</th>\n",
       "      <th>estimated_population_2019</th>\n",
       "      <th>is_repeated</th>\n",
       "      <th>is_last</th>\n",
       "      <th>last_available_confirmed</th>\n",
       "      <th>last_available_confirmed_per_100k_inhabitants</th>\n",
       "      <th>last_available_date</th>\n",
       "      <th>last_available_death_rate</th>\n",
       "      <th>last_available_deaths</th>\n",
       "      <th>place_type</th>\n",
       "      <th>state</th>\n",
       "      <th>new_confirmed</th>\n",
       "      <th>new_deaths</th>\n",
       "    </tr>\n",
       "  </thead>\n",
       "  <tbody>\n",
       "    <tr>\n",
       "      <td>0</td>\n",
       "      <td>São Paulo</td>\n",
       "      <td>3550308.0</td>\n",
       "      <td>2020-02-25</td>\n",
       "      <td>12252023.0</td>\n",
       "      <td>False</td>\n",
       "      <td>False</td>\n",
       "      <td>1</td>\n",
       "      <td>0.00816</td>\n",
       "      <td>2020-02-25</td>\n",
       "      <td>NaN</td>\n",
       "      <td>NaN</td>\n",
       "      <td>city</td>\n",
       "      <td>SP</td>\n",
       "      <td>0</td>\n",
       "      <td>0</td>\n",
       "    </tr>\n",
       "    <tr>\n",
       "      <td>1</td>\n",
       "      <td>São Paulo</td>\n",
       "      <td>3550308.0</td>\n",
       "      <td>2020-02-26</td>\n",
       "      <td>12252023.0</td>\n",
       "      <td>True</td>\n",
       "      <td>False</td>\n",
       "      <td>1</td>\n",
       "      <td>0.00816</td>\n",
       "      <td>2020-02-25</td>\n",
       "      <td>NaN</td>\n",
       "      <td>NaN</td>\n",
       "      <td>city</td>\n",
       "      <td>SP</td>\n",
       "      <td>0</td>\n",
       "      <td>0</td>\n",
       "    </tr>\n",
       "    <tr>\n",
       "      <td>2</td>\n",
       "      <td>São Paulo</td>\n",
       "      <td>3550308.0</td>\n",
       "      <td>2020-02-27</td>\n",
       "      <td>12252023.0</td>\n",
       "      <td>False</td>\n",
       "      <td>False</td>\n",
       "      <td>1</td>\n",
       "      <td>0.00816</td>\n",
       "      <td>2020-02-27</td>\n",
       "      <td>NaN</td>\n",
       "      <td>NaN</td>\n",
       "      <td>city</td>\n",
       "      <td>SP</td>\n",
       "      <td>0</td>\n",
       "      <td>0</td>\n",
       "    </tr>\n",
       "    <tr>\n",
       "      <td>3</td>\n",
       "      <td>São Paulo</td>\n",
       "      <td>3550308.0</td>\n",
       "      <td>2020-02-28</td>\n",
       "      <td>12252023.0</td>\n",
       "      <td>False</td>\n",
       "      <td>False</td>\n",
       "      <td>2</td>\n",
       "      <td>0.01632</td>\n",
       "      <td>2020-02-28</td>\n",
       "      <td>NaN</td>\n",
       "      <td>NaN</td>\n",
       "      <td>city</td>\n",
       "      <td>SP</td>\n",
       "      <td>1</td>\n",
       "      <td>0</td>\n",
       "    </tr>\n",
       "    <tr>\n",
       "      <td>4</td>\n",
       "      <td>São Paulo</td>\n",
       "      <td>3550308.0</td>\n",
       "      <td>2020-02-29</td>\n",
       "      <td>12252023.0</td>\n",
       "      <td>False</td>\n",
       "      <td>False</td>\n",
       "      <td>2</td>\n",
       "      <td>0.01632</td>\n",
       "      <td>2020-02-29</td>\n",
       "      <td>NaN</td>\n",
       "      <td>NaN</td>\n",
       "      <td>city</td>\n",
       "      <td>SP</td>\n",
       "      <td>0</td>\n",
       "      <td>0</td>\n",
       "    </tr>\n",
       "  </tbody>\n",
       "</table>\n",
       "</div>"
      ],
      "text/plain": [
       "        city  city_ibge_code        date  estimated_population_2019  \\\n",
       "0  São Paulo       3550308.0  2020-02-25                 12252023.0   \n",
       "1  São Paulo       3550308.0  2020-02-26                 12252023.0   \n",
       "2  São Paulo       3550308.0  2020-02-27                 12252023.0   \n",
       "3  São Paulo       3550308.0  2020-02-28                 12252023.0   \n",
       "4  São Paulo       3550308.0  2020-02-29                 12252023.0   \n",
       "\n",
       "   is_repeated  is_last  last_available_confirmed  \\\n",
       "0        False    False                         1   \n",
       "1         True    False                         1   \n",
       "2        False    False                         1   \n",
       "3        False    False                         2   \n",
       "4        False    False                         2   \n",
       "\n",
       "   last_available_confirmed_per_100k_inhabitants last_available_date  \\\n",
       "0                                        0.00816          2020-02-25   \n",
       "1                                        0.00816          2020-02-25   \n",
       "2                                        0.00816          2020-02-27   \n",
       "3                                        0.01632          2020-02-28   \n",
       "4                                        0.01632          2020-02-29   \n",
       "\n",
       "   last_available_death_rate  last_available_deaths place_type state  \\\n",
       "0                        NaN                    NaN       city    SP   \n",
       "1                        NaN                    NaN       city    SP   \n",
       "2                        NaN                    NaN       city    SP   \n",
       "3                        NaN                    NaN       city    SP   \n",
       "4                        NaN                    NaN       city    SP   \n",
       "\n",
       "   new_confirmed  new_deaths  \n",
       "0              0           0  \n",
       "1              0           0  \n",
       "2              0           0  \n",
       "3              1           0  \n",
       "4              0           0  "
      ]
     },
     "execution_count": 16,
     "metadata": {},
     "output_type": "execute_result"
    }
   ],
   "source": [
    "date = 1\n",
    "df_cov =  pd.read_csv('..\\\\'+directory[date])\n",
    "df_cov.head()"
   ]
  },
  {
   "cell_type": "code",
   "execution_count": 17,
   "metadata": {},
   "outputs": [
    {
     "data": {
      "text/html": [
       "<div>\n",
       "<style scoped>\n",
       "    .dataframe tbody tr th:only-of-type {\n",
       "        vertical-align: middle;\n",
       "    }\n",
       "\n",
       "    .dataframe tbody tr th {\n",
       "        vertical-align: top;\n",
       "    }\n",
       "\n",
       "    .dataframe thead th {\n",
       "        text-align: right;\n",
       "    }\n",
       "</style>\n",
       "<table border=\"1\" class=\"dataframe\">\n",
       "  <thead>\n",
       "    <tr style=\"text-align: right;\">\n",
       "      <th></th>\n",
       "      <th>Municípios</th>\n",
       "      <th>Population</th>\n",
       "      <th>Confirmed</th>\n",
       "      <th>Deaths</th>\n",
       "      <th>Confirmed/100k</th>\n",
       "      <th>Death rate</th>\n",
       "    </tr>\n",
       "  </thead>\n",
       "  <tbody>\n",
       "    <tr>\n",
       "      <td>0</td>\n",
       "      <td>Abaetetuba</td>\n",
       "      <td>157698.0</td>\n",
       "      <td>15</td>\n",
       "      <td>0.0</td>\n",
       "      <td>9.51184</td>\n",
       "      <td>0.0</td>\n",
       "    </tr>\n",
       "    <tr>\n",
       "      <td>1</td>\n",
       "      <td>Abaiara</td>\n",
       "      <td>11737.0</td>\n",
       "      <td>7</td>\n",
       "      <td>0.0</td>\n",
       "      <td>59.64042</td>\n",
       "      <td>0.0</td>\n",
       "    </tr>\n",
       "    <tr>\n",
       "      <td>2</td>\n",
       "      <td>Abreu e Lima</td>\n",
       "      <td>99990.0</td>\n",
       "      <td>2</td>\n",
       "      <td>0.0</td>\n",
       "      <td>2.00020</td>\n",
       "      <td>0.0</td>\n",
       "    </tr>\n",
       "    <tr>\n",
       "      <td>3</td>\n",
       "      <td>Acrelândia</td>\n",
       "      <td>15256.0</td>\n",
       "      <td>103</td>\n",
       "      <td>0.0</td>\n",
       "      <td>675.14418</td>\n",
       "      <td>0.0</td>\n",
       "    </tr>\n",
       "    <tr>\n",
       "      <td>4</td>\n",
       "      <td>Adamantina</td>\n",
       "      <td>35068.0</td>\n",
       "      <td>2</td>\n",
       "      <td>0.0</td>\n",
       "      <td>5.70320</td>\n",
       "      <td>0.0</td>\n",
       "    </tr>\n",
       "  </tbody>\n",
       "</table>\n",
       "</div>"
      ],
      "text/plain": [
       "     Municípios  Population  Confirmed  Deaths  Confirmed/100k  Death rate\n",
       "0    Abaetetuba    157698.0         15     0.0         9.51184         0.0\n",
       "1       Abaiara     11737.0          7     0.0        59.64042         0.0\n",
       "2  Abreu e Lima     99990.0          2     0.0         2.00020         0.0\n",
       "3    Acrelândia     15256.0        103     0.0       675.14418         0.0\n",
       "4    Adamantina     35068.0          2     0.0         5.70320         0.0"
      ]
     },
     "execution_count": 17,
     "metadata": {},
     "output_type": "execute_result"
    }
   ],
   "source": [
    "df_cities = pd.DataFrame()\n",
    "g_population = df_cov.groupby('city')\n",
    "df_cities['Municípios'] = g_population.sum().index\n",
    "df_cities['Population'] = g_population['estimated_population_2019'].median().values\n",
    "df_cities['Confirmed'] = g_population['last_available_confirmed'].sum().values\n",
    "df_cities['Deaths'] = g_population['last_available_deaths'].sum().values\n",
    "df_cities['Confirmed/100k'] = g_population['last_available_confirmed_per_100k_inhabitants'].sum().values\n",
    "df_cities['Death rate'] = g_population['last_available_death_rate'].sum().values\n",
    "df_cov = df_cities\n",
    "df_cov.head()"
   ]
  },
  {
   "cell_type": "code",
   "execution_count": 18,
   "metadata": {},
   "outputs": [
    {
     "name": "stdout",
     "output_type": "stream",
     "text": [
      "<class 'pandas.core.frame.DataFrame'>\n",
      "RangeIndex: 858 entries, 0 to 857\n",
      "Data columns (total 6 columns):\n",
      "Municípios        858 non-null object\n",
      "Population        857 non-null float64\n",
      "Confirmed         858 non-null int64\n",
      "Deaths            858 non-null float64\n",
      "Confirmed/100k    858 non-null float64\n",
      "Death rate        858 non-null float64\n",
      "dtypes: float64(4), int64(1), object(1)\n",
      "memory usage: 36.9+ KB\n"
     ]
    }
   ],
   "source": [
    "df_cov.info()"
   ]
  },
  {
   "cell_type": "code",
   "execution_count": 24,
   "metadata": {},
   "outputs": [
    {
     "data": {
      "text/html": [
       "<div>\n",
       "<style scoped>\n",
       "    .dataframe tbody tr th:only-of-type {\n",
       "        vertical-align: middle;\n",
       "    }\n",
       "\n",
       "    .dataframe tbody tr th {\n",
       "        vertical-align: top;\n",
       "    }\n",
       "\n",
       "    .dataframe thead th {\n",
       "        text-align: right;\n",
       "    }\n",
       "</style>\n",
       "<table border=\"1\" class=\"dataframe\">\n",
       "  <thead>\n",
       "    <tr style=\"text-align: right;\">\n",
       "      <th></th>\n",
       "      <th>Abaetetuba</th>\n",
       "      <th>PA</th>\n",
       "      <th>1610.65</th>\n",
       "      <th>157.698</th>\n",
       "      <th>87.61</th>\n",
       "      <th>0.628</th>\n",
       "    </tr>\n",
       "  </thead>\n",
       "  <tbody>\n",
       "    <tr>\n",
       "      <td>0</td>\n",
       "      <td>Acrelândia</td>\n",
       "      <td>AC</td>\n",
       "      <td>1807.95</td>\n",
       "      <td>15.256</td>\n",
       "      <td>6.94</td>\n",
       "      <td>0.604</td>\n",
       "    </tr>\n",
       "    <tr>\n",
       "      <td>1</td>\n",
       "      <td>Adamantina</td>\n",
       "      <td>SP</td>\n",
       "      <td>411.987</td>\n",
       "      <td>35.068</td>\n",
       "      <td>82.15</td>\n",
       "      <td>0.79</td>\n",
       "    </tr>\n",
       "    <tr>\n",
       "      <td>2</td>\n",
       "      <td>Afonso Cláudio</td>\n",
       "      <td>ES</td>\n",
       "      <td>941.188</td>\n",
       "      <td>30.586</td>\n",
       "      <td>32.68</td>\n",
       "      <td>0.667</td>\n",
       "    </tr>\n",
       "    <tr>\n",
       "      <td>3</td>\n",
       "      <td>Agudos</td>\n",
       "      <td>SP</td>\n",
       "      <td>966.708</td>\n",
       "      <td>37.214</td>\n",
       "      <td>35.73</td>\n",
       "      <td>0.745</td>\n",
       "    </tr>\n",
       "    <tr>\n",
       "      <td>4</td>\n",
       "      <td>Alagoinhas</td>\n",
       "      <td>BA</td>\n",
       "      <td>707.558</td>\n",
       "      <td>151.596</td>\n",
       "      <td>188.67</td>\n",
       "      <td>0.683</td>\n",
       "    </tr>\n",
       "  </tbody>\n",
       "</table>\n",
       "</div>"
      ],
      "text/plain": [
       "       Abaetetuba  PA   1610.65  157.698    87.61   0.628\n",
       "0      Acrelândia  AC   1807.95   15.256     6.94   0.604\n",
       "1      Adamantina  SP   411.987   35.068     82.15   0.79\n",
       "2  Afonso Cláudio  ES  941.188    30.586    32.68   0.667\n",
       "3          Agudos  SP  966.708   37.214     35.73   0.745\n",
       "4      Alagoinhas  BA   707.558  151.596   188.67   0.683"
      ]
     },
     "execution_count": 24,
     "metadata": {},
     "output_type": "execute_result"
    }
   ],
   "source": [
    "date = 5\n",
    "df_mun =  pd.read_csv('..\\\\'+directory[date], skiprows=1, sep='\\t', dtype={\n",
    "                                                                    'Área Territorial - km² [2018]': float,\n",
    "                                                                    'População estimada - pessoas [2019]': float,\n",
    "                                                                    'Densidade demográfica - hab/km² [2010]': float,\n",
    "                                                                    'IDHM - Índice de desenvolvimento humano municipal [2010]': float\n",
    "})\n",
    "df_mun.head()"
   ]
  },
  {
   "cell_type": "code",
   "execution_count": 25,
   "metadata": {},
   "outputs": [
    {
     "name": "stdout",
     "output_type": "stream",
     "text": [
      "<class 'pandas.core.frame.DataFrame'>\n",
      "RangeIndex: 541 entries, 0 to 540\n",
      "Data columns (total 6 columns):\n",
      "Abaetetuba    541 non-null object\n",
      "PA            541 non-null object\n",
      "1610.65       541 non-null object\n",
      "157.698       541 non-null object\n",
      "87.61         540 non-null object\n",
      "0.628         540 non-null object\n",
      "dtypes: object(6)\n",
      "memory usage: 12.7+ KB\n"
     ]
    }
   ],
   "source": [
    "df_mun.info()"
   ]
  },
  {
   "cell_type": "code",
   "execution_count": 8,
   "metadata": {},
   "outputs": [
    {
     "name": "stdout",
     "output_type": "stream",
     "text": [
      "<class 'pandas.core.frame.DataFrame'>\n",
      "Int64Index: 505 entries, 0 to 504\n",
      "Data columns (total 11 columns):\n",
      "Municípios                                                   505 non-null object\n",
      "Population                                                   505 non-null float64\n",
      "Confirmed                                                    505 non-null int64\n",
      "Deaths                                                       505 non-null float64\n",
      "Confirmed/100k                                               505 non-null float64\n",
      "Death rate                                                   505 non-null float64\n",
      "UF                                                           505 non-null object\n",
      "Área Territorial - km² [2018]                                505 non-null object\n",
      "População estimada - pessoas [2019]                          505 non-null object\n",
      "Densidade demográfica - hab/km² [2010]                       504 non-null object\n",
      "IDHM - Índice de desenvolvimento humano municipal [2010]    504 non-null object\n",
      "dtypes: float64(4), int64(1), object(6)\n",
      "memory usage: 35.5+ KB\n"
     ]
    }
   ],
   "source": [
    "df = pd.merge(df_cov, df_mun, on=\"Municípios\")\n",
    "df.info()"
   ]
  },
  {
   "cell_type": "code",
   "execution_count": 9,
   "metadata": {},
   "outputs": [],
   "source": [
    "corr = df.corr(method='spearman')"
   ]
  },
  {
   "cell_type": "code",
   "execution_count": 10,
   "metadata": {},
   "outputs": [
    {
     "data": {
      "text/plain": [
       "<matplotlib.axes._subplots.AxesSubplot at 0x9bfc470>"
      ]
     },
     "execution_count": 10,
     "metadata": {},
     "output_type": "execute_result"
    },
    {
     "data": {
      "image/png": "[encoded data removed]",
      "text/plain": [
       "<Figure size 432x288 with 2 Axes>"
      ]
     },
     "metadata": {
      "needs_background": "light"
     },
     "output_type": "display_data"
    }
   ],
   "source": [
    "sns.heatmap(\n",
    "    corr\n",
    ")"
   ]
  }
 ],
 "metadata": {
  "kernelspec": {
   "display_name": "Python 3",
   "language": "python",
   "name": "python3"
  },
  "language_info": {
   "codemirror_mode": {
    "name": "ipython",
    "version": 3
   },
   "file_extension": ".py",
   "mimetype": "text/x-python",
   "name": "python",
   "nbconvert_exporter": "python",
   "pygments_lexer": "ipython3",
   "version": "3.7.4"
  },
  "toc": {
   "base_numbering": 1,
   "nav_menu": {},
   "number_sections": true,
   "sideBar": true,
   "skip_h1_title": false,
   "title_cell": "Table of Contents",
   "title_sidebar": "Contents",
   "toc_cell": false,
   "toc_position": {},
   "toc_section_display": true,
   "toc_window_display": false
  },
  "varInspector": {
   "cols": {
    "lenName": 16,
    "lenType": 16,
    "lenVar": 40
   },
   "kernels_config": {
    "python": {
     "delete_cmd_postfix": "",
     "delete_cmd_prefix": "del ",
     "library": "var_list.py",
     "varRefreshCmd": "print(var_dic_list())"
    },
    "r": {
     "delete_cmd_postfix": ") ",
     "delete_cmd_prefix": "rm(",
     "library": "var_list.r",
     "varRefreshCmd": "cat(var_dic_list()) "
    }
   },
   "types_to_exclude": [
    "module",
    "function",
    "builtin_function_or_method",
    "instance",
    "_Feature"
   ],
   "window_display": false
  }
 },
 "nbformat": 4,
 "nbformat_minor": 2
}
